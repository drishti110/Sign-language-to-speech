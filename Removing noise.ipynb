{
 "cells": [
  {
   "cell_type": "code",
   "execution_count": 1,
   "id": "50c29cc2-50ed-40d7-8e9f-ccd93a95673d",
   "metadata": {},
   "outputs": [
    {
     "name": "stdout",
     "output_type": "stream",
     "text": [
      "Conversion to grayscale completed for all images.\n"
     ]
    }
   ],
   "source": [
    "import cv2\n",
    "import os\n",
    "\n",
    "def convert_to_grayscale(input_path, output_path):\n",
    "    image = cv2.imread(input_path)\n",
    "    resized_image = cv2.resize(image, (480, 640))\n",
    "    gray = cv2.cvtColor(resized_image, cv2.COLOR_BGR2GRAY)\n",
    "    Gaussian = cv2.GaussianBlur(gray ,(5,5) , 2 )\n",
    "\n",
    "    th3 = cv2.adaptiveThreshold(Gaussian, 255 ,cv2.ADAPTIVE_THRESH_GAUSSIAN_C, cv2.THRESH_BINARY_INV, 11, 2)\n",
    "    ret, res = cv2.threshold(th3, 70, 255, cv2.THRESH_BINARY_INV + cv2.THRESH_OTSU)\n",
    "    cv2.imwrite(output_path, res)\n",
    "\n",
    "def convert_images_in_folder(folder_path, output_folder):\n",
    "    if not os.path.exists(output_folder):\n",
    "        os.makedirs(output_folder)\n",
    "    \n",
    "    for root, dirs, files in os.walk(folder_path):\n",
    "        for filename in files:\n",
    "            if filename.endswith(('.jpg', '.jpeg', '.png')):\n",
    "                input_path = os.path.join(root, filename)\n",
    "                output_path = os.path.join(output_folder, os.path.relpath(input_path, folder_path))\n",
    "                output_dir = os.path.dirname(output_path)\n",
    "                os.makedirs(output_dir, exist_ok=True)\n",
    "                convert_to_grayscale(input_path, output_path)\n",
    "\n",
    "if __name__ == \"__main__\":\n",
    "    folder_path = 'Data set'\n",
    "    output_folder = 'Data set edited'\n",
    "    \n",
    "    convert_images_in_folder(folder_path, output_folder)\n",
    "    \n",
    "    print(\"Conversion to grayscale completed for all images.\")\n"
   ]
  },
  {
   "cell_type": "code",
   "execution_count": null,
   "id": "2fc31d1e-a601-4bbb-8f89-9b48f44ae523",
   "metadata": {},
   "outputs": [],
   "source": []
  }
 ],
 "metadata": {
  "kernelspec": {
   "display_name": "Python 3 (ipykernel)",
   "language": "python",
   "name": "python3"
  },
  "language_info": {
   "codemirror_mode": {
    "name": "ipython",
    "version": 3
   },
   "file_extension": ".py",
   "mimetype": "text/x-python",
   "name": "python",
   "nbconvert_exporter": "python",
   "pygments_lexer": "ipython3",
   "version": "3.11.7"
  }
 },
 "nbformat": 4,
 "nbformat_minor": 5
}
