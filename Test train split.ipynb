{
 "cells": [
  {
   "cell_type": "code",
   "execution_count": 34,
   "id": "7dd017df-37e0-44bb-961c-5d34f7010af2",
   "metadata": {},
   "outputs": [
    {
     "name": "stdout",
     "output_type": "stream",
     "text": [
      "Data split completed.\n"
     ]
    }
   ],
   "source": [
    "import os\n",
    "import random\n",
    "from shutil import copyfile\n",
    "\n",
    "def split_data(source, training, testing, split_size):\n",
    "    if not os.path.exists(training):\n",
    "        os.makedirs(training)\n",
    "    if not os.path.exists(testing):\n",
    "        os.makedirs(testing)\n",
    "    \n",
    "    files = os.listdir(source)\n",
    "    random.shuffle(files)\n",
    "    \n",
    "    split_index = int(len(files) * split_size)\n",
    "    training_files = files[:split_index]\n",
    "    testing_files = files[split_index:]\n",
    "    \n",
    "    for file in training_files:\n",
    "        source_file = os.path.join(source, file)\n",
    "        destination_file = os.path.join(training, file)\n",
    "        copyfile(source_file, destination_file)\n",
    "    \n",
    "    for file in testing_files:\n",
    "        source_file = os.path.join(source, file)\n",
    "        destination_file = os.path.join(testing, file)\n",
    "        copyfile(source_file, destination_file)\n",
    "\n",
    "source_dir = 'Data set edited/Z'\n",
    "training_dir = 'training_data/Z'\n",
    "testing_dir = 'testing_data/Z'\n",
    "\n",
    "split_size = 0.8\n",
    "\n",
    "split_data(source_dir, training_dir, testing_dir, split_size)\n",
    "\n",
    "print(\"Data split completed.\")\n"
   ]
  },
  {
   "cell_type": "code",
   "execution_count": null,
   "id": "6901fa6a-6377-40a6-8d9c-28af0195220e",
   "metadata": {},
   "outputs": [],
   "source": []
  }
 ],
 "metadata": {
  "kernelspec": {
   "display_name": "Python 3 (ipykernel)",
   "language": "python",
   "name": "python3"
  },
  "language_info": {
   "codemirror_mode": {
    "name": "ipython",
    "version": 3
   },
   "file_extension": ".py",
   "mimetype": "text/x-python",
   "name": "python",
   "nbconvert_exporter": "python",
   "pygments_lexer": "ipython3",
   "version": "3.11.7"
  }
 },
 "nbformat": 4,
 "nbformat_minor": 5
}
