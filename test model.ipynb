{
 "cells": [
  {
   "cell_type": "code",
   "execution_count": 37,
   "id": "adfa6338-23d6-4fb2-8999-1edde285446f",
   "metadata": {},
   "outputs": [
    {
     "name": "stderr",
     "output_type": "stream",
     "text": [
      "WARNING:absl:Compiled the loaded model, but the compiled metrics have yet to be built. `model.compile_metrics` will be empty until you train or evaluate the model.\n"
     ]
    }
   ],
   "source": [
    "import cv2\n",
    "import numpy as np\n",
    "from tensorflow.keras.models import load_model\n",
    "cnn = load_model('modelCNN.h5')\n"
   ]
  },
  {
   "cell_type": "code",
   "execution_count": 46,
   "id": "ed7b832e-f24a-4797-bbee-c5f2d7ee7134",
   "metadata": {},
   "outputs": [
    {
     "name": "stdout",
     "output_type": "stream",
     "text": [
      "\u001b[1m1/1\u001b[0m \u001b[32m━━━━━━━━━━━━━━━━━━━━\u001b[0m\u001b[37m\u001b[0m \u001b[1m0s\u001b[0m 21ms/step\n"
     ]
    }
   ],
   "source": [
    "img = cv2.imread('15.jpg')\n",
    "resized_image = cv2.resize(img, (128, 128))\n",
    "gray_image = cv2.cvtColor(resized_image, cv2.COLOR_BGR2GRAY)\n",
    "normalized_image = gray_image.astype('float32') / 255.0\n",
    "input_image = np.expand_dims(normalized_image, axis=0)\n",
    "predictions = cnn.predict(input_image)"
   ]
  },
  {
   "cell_type": "code",
   "execution_count": 47,
   "id": "1c8d21a3-3f3f-4eb6-9779-10d9b001995d",
   "metadata": {
    "scrolled": true
   },
   "outputs": [
    {
     "data": {
      "text/plain": [
       "array([[2.51740784e-14, 5.02540232e-08, 4.58728111e-10, 4.84032649e-12,\n",
       "        1.29861462e-06, 1.89313721e-11, 1.35090966e-10, 1.42433374e-12,\n",
       "        1.20195191e-11, 2.74315504e-09, 2.95373066e-11, 9.99820769e-01,\n",
       "        1.70272759e-13, 2.90541919e-08, 1.38953578e-08, 1.63168890e-09,\n",
       "        1.16709342e-11, 1.31162485e-08, 1.18175172e-04, 1.26681909e-08,\n",
       "        3.62435276e-06, 9.29578121e-08, 5.48904572e-05, 9.20385901e-09,\n",
       "        3.72440923e-09, 9.98167593e-07, 4.09096472e-08]], dtype=float32)"
      ]
     },
     "execution_count": 47,
     "metadata": {},
     "output_type": "execute_result"
    }
   ],
   "source": [
    "predictions"
   ]
  },
  {
   "cell_type": "code",
   "execution_count": 48,
   "id": "85b3c367-b9a1-4fcf-842e-28a6e590d890",
   "metadata": {},
   "outputs": [
    {
     "data": {
      "text/plain": [
       "0.99982077"
      ]
     },
     "execution_count": 48,
     "metadata": {},
     "output_type": "execute_result"
    }
   ],
   "source": [
    "np.max(predictions)"
   ]
  },
  {
   "cell_type": "code",
   "execution_count": 49,
   "id": "18497a05-3196-40c6-b284-35478bfe190f",
   "metadata": {},
   "outputs": [
    {
     "name": "stdout",
     "output_type": "stream",
     "text": [
      "Predicted Class: K\n"
     ]
    }
   ],
   "source": [
    "class_labels = ['0','A', 'B', 'C', 'D', 'E', 'F', 'G', 'H', 'I', 'J', 'K', 'L', 'M', 'N', 'O', 'P', 'Q', 'R', 'S', 'T', 'U', 'V', 'W', 'X', 'Y', 'Z']\n",
    "\n",
    "predicted_class_index = np.argmax(predictions)\n",
    "predicted_class = class_labels[predicted_class_index]\n",
    "\n",
    "print(\"Predicted Class:\", predicted_class)\n"
   ]
  },
  {
   "cell_type": "code",
   "execution_count": null,
   "id": "7df4c275-5427-4270-8da8-9c3387a7fc93",
   "metadata": {},
   "outputs": [],
   "source": []
  }
 ],
 "metadata": {
  "kernelspec": {
   "display_name": "Python 3 (ipykernel)",
   "language": "python",
   "name": "python3"
  },
  "language_info": {
   "codemirror_mode": {
    "name": "ipython",
    "version": 3
   },
   "file_extension": ".py",
   "mimetype": "text/x-python",
   "name": "python",
   "nbconvert_exporter": "python",
   "pygments_lexer": "ipython3",
   "version": "3.11.7"
  }
 },
 "nbformat": 4,
 "nbformat_minor": 5
}
